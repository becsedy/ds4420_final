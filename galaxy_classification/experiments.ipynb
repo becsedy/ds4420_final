{
 "cells": [
  {
   "cell_type": "code",
   "execution_count": 1,
   "id": "70d6ae34-d6b7-4705-937e-22ff551c3992",
   "metadata": {},
   "outputs": [
    {
     "name": "stdout",
     "output_type": "stream",
     "text": [
      "Running on device: cuda\n"
     ]
    }
   ],
   "source": [
    "import torch\n",
    "import numpy as np\n",
    "import matplotlib.pyplot as plt\n",
    "\n",
    "# Check for GPU\n",
    "device = torch.device(\"cuda\" if torch.cuda.is_available() else \"cpu\")\n",
    "print(\"Running on device:\", device)"
   ]
  },
  {
   "cell_type": "code",
   "execution_count": 6,
   "id": "6f56a01f-7d1b-47af-8f21-5d35ea740079",
   "metadata": {},
   "outputs": [],
   "source": [
    "import sys\n",
    "import os\n",
    "\n",
    "# Append the parent directory (project root) to the sys.path\n",
    "project_root = os.path.abspath(os.path.join(os.getcwd(), '..'))\n",
    "if project_root not in sys.path:\n",
    "    sys.path.insert(0, project_root)"
   ]
  },
  {
   "cell_type": "code",
   "execution_count": 7,
   "id": "990d5edd-1617-4835-967c-d3f6254051b8",
   "metadata": {},
   "outputs": [
    {
     "name": "stdout",
     "output_type": "stream",
     "text": [
      "Loaded subset size: 1000\n"
     ]
    }
   ],
   "source": [
    "import h5py\n",
    "import numpy as np\n",
    "from torch.utils.data import DataLoader, Subset\n",
    "from src.dataset import GalaxyDataset  # Assuming you have implemented a dataset class in src\n",
    "\n",
    "file_path = '../data/raw/Galaxy10_DECals.h5'\n",
    "\n",
    "# Load the whole dataset (or a preprocessed version if available)\n",
    "with h5py.File(file_path, 'r') as F:\n",
    "    images = np.array(F['images'])\n",
    "    labels = np.array(F['ans'])\n",
    "\n",
    "# Convert to tensors and set up dataset (if not already done in src)\n",
    "images = torch.tensor(images, dtype=torch.float32) / 255.0   # normalize if needed\n",
    "labels = torch.tensor(labels, dtype=torch.long)\n",
    "\n",
    "# Create the dataset (this is similar to what you did in exploratory.ipynb)\n",
    "dataset = GalaxyDataset(images, labels)\n",
    "\n",
    "# For quick experiments, use a smaller subset\n",
    "subset_indices = np.random.choice(len(dataset), size=1000, replace=False).tolist()\n",
    "train_subset = Subset(dataset, subset_indices)\n",
    "loader = DataLoader(train_subset, batch_size=32, shuffle=True)\n",
    "\n",
    "print(\"Loaded subset size:\", len(train_subset))"
   ]
  },
  {
   "cell_type": "code",
   "execution_count": 8,
   "id": "bd0e62cc-13b4-451a-a7f3-98e1c336e5e4",
   "metadata": {},
   "outputs": [
    {
     "name": "stdout",
     "output_type": "stream",
     "text": [
      "SimpleCNN(\n",
      "  (conv1): Conv2d(3, 16, kernel_size=(3, 3), stride=(1, 1), padding=(1, 1))\n",
      "  (pool): MaxPool2d(kernel_size=2, stride=2, padding=0, dilation=1, ceil_mode=False)\n",
      "  (conv2): Conv2d(16, 32, kernel_size=(3, 3), stride=(1, 1), padding=(1, 1))\n",
      "  (fc1): Linear(in_features=131072, out_features=128, bias=True)\n",
      "  (fc2): Linear(in_features=128, out_features=10, bias=True)\n",
      ")\n"
     ]
    }
   ],
   "source": [
    "from src.models import SimpleCNN  # Ensure you've defined this in your src/models.py\n",
    "\n",
    "# Instantiate the model and move it to GPU if available\n",
    "model = SimpleCNN(num_classes=10).to(device)\n",
    "print(model)"
   ]
  },
  {
   "cell_type": "code",
   "execution_count": 20,
   "id": "9767513d-13e1-4e90-a1bd-4dc04a964218",
   "metadata": {},
   "outputs": [
    {
     "name": "stdout",
     "output_type": "stream",
     "text": [
      "Epoch [1/2], Step [10/32], Loss: 1.5306\n",
      "Epoch [1/2], Step [20/32], Loss: 1.5566\n",
      "Epoch [1/2], Step [30/32], Loss: 1.5047\n",
      "Epoch [2/2], Step [10/32], Loss: 1.1833\n",
      "Epoch [2/2], Step [20/32], Loss: 1.0906\n",
      "Epoch [2/2], Step [30/32], Loss: 1.1421\n"
     ]
    }
   ],
   "source": [
    "import torch.nn as nn\n",
    "import torch.optim as optim\n",
    "\n",
    "# Setup loss function and optimizer\n",
    "criterion = nn.CrossEntropyLoss()\n",
    "optimizer = optim.Adam(model.parameters(), lr=0.001)\n",
    "\n",
    "# Quick training loop over a small number of epochs/iterations\n",
    "num_epochs = 2  # keep this low for a quick experiment\n",
    "loss_values = []\n",
    "for epoch in range(num_epochs):\n",
    "    model.train()\n",
    "    running_loss = 0.0\n",
    "    for i, (inputs, targets) in enumerate(loader):\n",
    "        inputs, targets = inputs.to(device), targets.to(device)\n",
    "        # Ensure the input dimensions are appropriate (convert if needed)\n",
    "        # For example: from (batch, height, width, channels) to (batch, channels, height, width)\n",
    "        if inputs.shape[1] != 3:\n",
    "            inputs = inputs.permute(0, 3, 1, 2)  # Now inputs become (batch, 3, height, width)\n",
    "    \n",
    "        optimizer.zero_grad()\n",
    "        outputs = model(inputs)\n",
    "        loss = criterion(outputs, targets)\n",
    "        loss.backward()\n",
    "        optimizer.step()\n",
    "\n",
    "        running_loss += loss.item()\n",
    "        \n",
    "        if (i + 1) % 10 == 0:\n",
    "            loss_values.append(running_loss/10)\n",
    "            print(f\"Epoch [{epoch+1}/{num_epochs}], Step [{i+1}/{len(loader)}], Loss: {running_loss/10:.4f}\")\n",
    "            running_loss = 0.0"
   ]
  },
  {
   "cell_type": "code",
   "execution_count": 21,
   "id": "3e39dfde-156c-4096-acbc-d6ee9c2b45a3",
   "metadata": {},
   "outputs": [
    {
     "name": "stdout",
     "output_type": "stream",
     "text": [
      "Accuracy on the subset: 78.90%\n"
     ]
    }
   ],
   "source": [
    "# If you want to evaluate on the same loader for simplicity:\n",
    "model.eval()\n",
    "correct = 0\n",
    "total = 0\n",
    "\n",
    "with torch.no_grad():\n",
    "    for inputs, targets in loader:\n",
    "        inputs, targets = inputs.to(device), targets.to(device)\n",
    "        if inputs.shape[1] != 3:\n",
    "            inputs = inputs.permute(0, 3, 1, 2)\n",
    "        outputs = model(inputs)\n",
    "        _, predicted = torch.max(outputs.data, 1)\n",
    "        total += targets.size(0)\n",
    "        correct += (predicted == targets).sum().item()\n",
    "\n",
    "print(\"Accuracy on the subset: {:.2f}%\".format(100 * correct / total))"
   ]
  },
  {
   "cell_type": "code",
   "execution_count": 22,
   "id": "7488c430-debb-4f76-b82e-24257a8521a6",
   "metadata": {},
   "outputs": [
    {
     "data": {
      "image/png": "[encoded data removed]",
      "text/plain": [
       "<Figure size 800x500 with 1 Axes>"
      ]
     },
     "metadata": {},
     "output_type": "display_data"
    }
   ],
   "source": [
    "# Example: If you have stored loss values in a list called loss_values\n",
    "plt.figure(figsize=(8, 5))\n",
    "plt.plot(loss_values, label='Training Loss')\n",
    "plt.xlabel(\"Iteration\")\n",
    "plt.ylabel(\"Loss\")\n",
    "plt.title(\"Loss Curve\")\n",
    "plt.legend()\n",
    "plt.show()"
   ]
  },
  {
   "cell_type": "code",
   "execution_count": 5,
   "id": "a6519f33-4781-4adc-afb6-4228ac94729d",
   "metadata": {},
   "outputs": [
    {
     "name": "stdout",
     "output_type": "stream",
     "text": [
      "Using device: cuda\n",
      "Starting Training!\n",
      "Epoch [1/10] Train Loss: 1.9446, Train Acc: 0.3725 | Val Loss: 1.4514, Val Acc: 0.4940, Time: 10.185405 seconds\n",
      "New best model saved at models/best_simple_cnn_raw.pth with Val Acc: 0.4940\n",
      "Epoch [2/10] Train Loss: 1.0971, Train Acc: 0.6106 | Val Loss: 1.3254, Val Acc: 0.5586, Time: 9.069506 seconds\n",
      "New best model saved at models/best_simple_cnn_raw.pth with Val Acc: 0.5586\n",
      "Epoch [3/10] Train Loss: 0.6618, Train Acc: 0.7728 | Val Loss: 1.5625, Val Acc: 0.5432, Time: 9.464743 seconds\n",
      "Epoch [4/10] Train Loss: 0.3478, Train Acc: 0.8893 | Val Loss: 1.8926, Val Acc: 0.5132, Time: 9.359734 seconds\n",
      "Epoch [5/10] Train Loss: 0.1772, Train Acc: 0.9522 | Val Loss: 2.4803, Val Acc: 0.5229, Time: 9.673188 seconds\n",
      "Epoch [6/10] Train Loss: 0.0977, Train Acc: 0.9791 | Val Loss: 2.6242, Val Acc: 0.5102, Time: 9.540138 seconds\n",
      "Epoch [7/10] Train Loss: 0.0662, Train Acc: 0.9893 | Val Loss: 3.0197, Val Acc: 0.5154, Time: 9.330719 seconds\n",
      "Epoch [8/10] Train Loss: 0.0522, Train Acc: 0.9922 | Val Loss: 3.0483, Val Acc: 0.5090, Time: 9.894490 seconds\n",
      "Epoch [9/10] Train Loss: 0.0443, Train Acc: 0.9943 | Val Loss: 3.1519, Val Acc: 0.5041, Time: 9.488991 seconds\n",
      "Epoch [10/10] Train Loss: 0.0451, Train Acc: 0.9947 | Val Loss: 3.0110, Val Acc: 0.4846, Time: 8.727829 seconds\n",
      "Training complete.\n"
     ]
    }
   ],
   "source": [
    "# In experiments.ipynb\n",
    "!python ../src/train.py --raw    # Run training on raw data"
   ]
  },
  {
   "cell_type": "code",
   "execution_count": 1,
   "id": "569ccf64-60ea-4b78-9fd8-18b3c981d78a",
   "metadata": {},
   "outputs": [
    {
     "name": "stdout",
     "output_type": "stream",
     "text": [
      "Using device: cuda\n",
      "Starting Training!\n",
      "Epoch [1/25] Train Loss: 2.0066, Train Acc: 0.2465 | Val Loss: 1.9223, Val Acc: 0.2628, Time: 18.228652 seconds\n",
      "New best model saved at models/best_powerful_cnn_augmented.pth with Val Acc: 0.2628\n",
      "Epoch [2/25] Train Loss: 1.8458, Train Acc: 0.3195 | Val Loss: 1.7875, Val Acc: 0.3492, Time: 17.734403 seconds\n",
      "New best model saved at models/best_powerful_cnn_augmented.pth with Val Acc: 0.3492\n",
      "Epoch [3/25] Train Loss: 1.7319, Train Acc: 0.3617 | Val Loss: 1.7711, Val Acc: 0.3632, Time: 17.766417 seconds\n",
      "New best model saved at models/best_powerful_cnn_augmented.pth with Val Acc: 0.3632\n",
      "Epoch [4/25] Train Loss: 1.6655, Train Acc: 0.3889 | Val Loss: 1.6371, Val Acc: 0.3962, Time: 17.748039 seconds\n",
      "New best model saved at models/best_powerful_cnn_augmented.pth with Val Acc: 0.3962\n",
      "Epoch [5/25] Train Loss: 1.6267, Train Acc: 0.4073 | Val Loss: 1.6164, Val Acc: 0.4038, Time: 17.789584 seconds\n",
      "New best model saved at models/best_powerful_cnn_augmented.pth with Val Acc: 0.4038\n",
      "Epoch [6/25] Train Loss: 1.6170, Train Acc: 0.4070 | Val Loss: 1.6914, Val Acc: 0.3726, Time: 17.671225 seconds\n",
      "Epoch [7/25] Train Loss: 1.5642, Train Acc: 0.4237 | Val Loss: 1.6541, Val Acc: 0.4109, Time: 17.804550 seconds\n",
      "New best model saved at models/best_powerful_cnn_augmented.pth with Val Acc: 0.4109\n",
      "Epoch [8/25] Train Loss: 1.5339, Train Acc: 0.4299 | Val Loss: 1.4773, Val Acc: 0.4421, Time: 17.753390 seconds\n",
      "New best model saved at models/best_powerful_cnn_augmented.pth with Val Acc: 0.4421\n",
      "Epoch [9/25] Train Loss: 1.4764, Train Acc: 0.4584 | Val Loss: 1.4526, Val Acc: 0.4598, Time: 17.943226 seconds\n",
      "New best model saved at models/best_powerful_cnn_augmented.pth with Val Acc: 0.4598\n",
      "Epoch [10/25] Train Loss: 1.4058, Train Acc: 0.4834 | Val Loss: 1.5233, Val Acc: 0.4316, Time: 18.112176 seconds\n",
      "Epoch [11/25] Train Loss: 1.3038, Train Acc: 0.5315 | Val Loss: 1.6986, Val Acc: 0.4256, Time: 17.807439 seconds\n",
      "Epoch [12/25] Train Loss: 1.2543, Train Acc: 0.5502 | Val Loss: 1.2719, Val Acc: 0.5391, Time: 17.880984 seconds\n",
      "New best model saved at models/best_powerful_cnn_augmented.pth with Val Acc: 0.5391\n",
      "Epoch [13/25] Train Loss: 1.2245, Train Acc: 0.5634 | Val Loss: 1.4501, Val Acc: 0.4737, Time: 17.843475 seconds\n",
      "Epoch [14/25] Train Loss: 1.1990, Train Acc: 0.5732 | Val Loss: 1.2038, Val Acc: 0.5635, Time: 17.684435 seconds\n",
      "New best model saved at models/best_powerful_cnn_augmented.pth with Val Acc: 0.5635\n",
      "Epoch [15/25] Train Loss: 1.1740, Train Acc: 0.5802 | Val Loss: 1.1170, Val Acc: 0.5970, Time: 17.846889 seconds\n",
      "New best model saved at models/best_powerful_cnn_augmented.pth with Val Acc: 0.5970\n",
      "Epoch [16/25] Train Loss: 1.1588, Train Acc: 0.5913 | Val Loss: 1.0998, Val Acc: 0.6038, Time: 17.782633 seconds\n",
      "New best model saved at models/best_powerful_cnn_augmented.pth with Val Acc: 0.6038\n",
      "Epoch [17/25] Train Loss: 1.1427, Train Acc: 0.6006 | Val Loss: 1.0983, Val Acc: 0.6030, Time: 17.865855 seconds\n",
      "Epoch [18/25] Train Loss: 1.1213, Train Acc: 0.6051 | Val Loss: 1.0266, Val Acc: 0.6316, Time: 17.841525 seconds\n",
      "New best model saved at models/best_powerful_cnn_augmented.pth with Val Acc: 0.6316\n",
      "Epoch [19/25] Train Loss: 1.1003, Train Acc: 0.6172 | Val Loss: 1.0491, Val Acc: 0.6259, Time: 17.798230 seconds\n",
      "Epoch [20/25] Train Loss: 1.0920, Train Acc: 0.6154 | Val Loss: 0.9916, Val Acc: 0.6481, Time: 18.150899 seconds\n",
      "New best model saved at models/best_powerful_cnn_augmented.pth with Val Acc: 0.6481\n",
      "Epoch [21/25] Train Loss: 1.0506, Train Acc: 0.6342 | Val Loss: 0.9563, Val Acc: 0.6695, Time: 18.042400 seconds\n",
      "New best model saved at models/best_powerful_cnn_augmented.pth with Val Acc: 0.6695\n",
      "Epoch [22/25] Train Loss: 1.0377, Train Acc: 0.6355 | Val Loss: 0.9607, Val Acc: 0.6665, Time: 18.039422 seconds\n",
      "Epoch [23/25] Train Loss: 1.0175, Train Acc: 0.6433 | Val Loss: 0.9496, Val Acc: 0.6669, Time: 17.978419 seconds\n",
      "Epoch [24/25] Train Loss: 1.0225, Train Acc: 0.6434 | Val Loss: 0.9396, Val Acc: 0.6767, Time: 18.147546 seconds\n",
      "New best model saved at models/best_powerful_cnn_augmented.pth with Val Acc: 0.6767\n",
      "Epoch [25/25] Train Loss: 1.0134, Train Acc: 0.6494 | Val Loss: 0.9568, Val Acc: 0.6654, Time: 17.829878 seconds\n",
      "Training complete.\n"
     ]
    }
   ],
   "source": [
    "!python ../src/train.py     # Run training on augmented data for 20 epochs Powerful CNN"
   ]
  },
  {
   "cell_type": "code",
   "execution_count": 7,
   "id": "cc87d2d2-3f73-448d-bcab-8c8946b2b625",
   "metadata": {},
   "outputs": [
    {
     "name": "stdout",
     "output_type": "stream",
     "text": [
      "Using device: cuda\n",
      "Starting Training!\n",
      "Epoch [1/55] Train Loss: 1.9959, Train Acc: 0.2622 | Val Loss: 2.0274, Val Acc: 0.2188, Time: 18.354839 seconds\n",
      "New best model saved at models/best_powerful_cnn_raw.pth with Val Acc: 0.2188\n",
      "Epoch [2/55] Train Loss: 1.8838, Train Acc: 0.3014 | Val Loss: 1.8863, Val Acc: 0.3323, Time: 17.758336 seconds\n",
      "New best model saved at models/best_powerful_cnn_raw.pth with Val Acc: 0.3323\n",
      "Epoch [3/55] Train Loss: 1.7749, Train Acc: 0.3469 | Val Loss: 1.8544, Val Acc: 0.2966, Time: 17.826318 seconds\n",
      "Epoch [4/55] Train Loss: 1.7013, Train Acc: 0.3790 | Val Loss: 1.9937, Val Acc: 0.3023, Time: 17.668549 seconds\n",
      "Epoch [5/55] Train Loss: 1.6600, Train Acc: 0.3916 | Val Loss: 2.3292, Val Acc: 0.2282, Time: 17.791183 seconds\n",
      "Epoch [6/55] Train Loss: 1.6236, Train Acc: 0.4031 | Val Loss: 1.6932, Val Acc: 0.3748, Time: 17.582651 seconds\n",
      "New best model saved at models/best_powerful_cnn_raw.pth with Val Acc: 0.3748\n",
      "Epoch [7/55] Train Loss: 1.6055, Train Acc: 0.4093 | Val Loss: 1.5963, Val Acc: 0.3936, Time: 17.790956 seconds\n",
      "New best model saved at models/best_powerful_cnn_raw.pth with Val Acc: 0.3936\n",
      "Epoch [8/55] Train Loss: 1.5670, Train Acc: 0.4208 | Val Loss: 1.6501, Val Acc: 0.3861, Time: 17.682569 seconds\n",
      "Epoch [9/55] Train Loss: 1.5203, Train Acc: 0.4399 | Val Loss: 1.7573, Val Acc: 0.3827, Time: 17.606559 seconds\n",
      "Epoch [10/55] Train Loss: 1.4343, Train Acc: 0.4691 | Val Loss: 1.4293, Val Acc: 0.4444, Time: 17.860024 seconds\n",
      "New best model saved at models/best_powerful_cnn_raw.pth with Val Acc: 0.4444\n",
      "Epoch [11/55] Train Loss: 1.3224, Train Acc: 0.5195 | Val Loss: 1.2683, Val Acc: 0.5395, Time: 17.883629 seconds\n",
      "New best model saved at models/best_powerful_cnn_raw.pth with Val Acc: 0.5395\n",
      "Epoch [12/55] Train Loss: 1.2854, Train Acc: 0.5383 | Val Loss: 1.2376, Val Acc: 0.5504, Time: 17.750333 seconds\n",
      "New best model saved at models/best_powerful_cnn_raw.pth with Val Acc: 0.5504\n",
      "Epoch [13/55] Train Loss: 1.2333, Train Acc: 0.5644 | Val Loss: 1.1527, Val Acc: 0.5861, Time: 17.728272 seconds\n",
      "New best model saved at models/best_powerful_cnn_raw.pth with Val Acc: 0.5861\n",
      "Epoch [14/55] Train Loss: 1.1923, Train Acc: 0.5756 | Val Loss: 1.1125, Val Acc: 0.6011, Time: 17.615914 seconds\n",
      "New best model saved at models/best_powerful_cnn_raw.pth with Val Acc: 0.6011\n",
      "Epoch [15/55] Train Loss: 1.1791, Train Acc: 0.5813 | Val Loss: 1.2094, Val Acc: 0.5662, Time: 17.809773 seconds\n",
      "Epoch [16/55] Train Loss: 1.1418, Train Acc: 0.5988 | Val Loss: 1.1502, Val Acc: 0.6026, Time: 17.793816 seconds\n",
      "New best model saved at models/best_powerful_cnn_raw.pth with Val Acc: 0.6026\n",
      "Epoch [17/55] Train Loss: 1.1213, Train Acc: 0.6064 | Val Loss: 1.0818, Val Acc: 0.6117, Time: 17.647744 seconds\n",
      "New best model saved at models/best_powerful_cnn_raw.pth with Val Acc: 0.6117\n",
      "Epoch [18/55] Train Loss: 1.0980, Train Acc: 0.6152 | Val Loss: 1.1964, Val Acc: 0.5504, Time: 17.845238 seconds\n",
      "Epoch [19/55] Train Loss: 1.0715, Train Acc: 0.6274 | Val Loss: 1.0211, Val Acc: 0.6474, Time: 17.740504 seconds\n",
      "New best model saved at models/best_powerful_cnn_raw.pth with Val Acc: 0.6474\n",
      "Epoch [20/55] Train Loss: 1.0575, Train Acc: 0.6350 | Val Loss: 0.9703, Val Acc: 0.6647, Time: 17.859023 seconds\n",
      "New best model saved at models/best_powerful_cnn_raw.pth with Val Acc: 0.6647\n",
      "Epoch [21/55] Train Loss: 1.0146, Train Acc: 0.6457 | Val Loss: 0.9963, Val Acc: 0.6440, Time: 17.502857 seconds\n",
      "Epoch [22/55] Train Loss: 0.9973, Train Acc: 0.6538 | Val Loss: 0.9267, Val Acc: 0.6759, Time: 17.705248 seconds\n",
      "New best model saved at models/best_powerful_cnn_raw.pth with Val Acc: 0.6759\n",
      "Epoch [23/55] Train Loss: 0.9907, Train Acc: 0.6547 | Val Loss: 0.9769, Val Acc: 0.6650, Time: 17.475234 seconds\n",
      "Epoch [24/55] Train Loss: 0.9748, Train Acc: 0.6621 | Val Loss: 0.9207, Val Acc: 0.6759, Time: 17.667911 seconds\n",
      "Epoch [25/55] Train Loss: 0.9701, Train Acc: 0.6622 | Val Loss: 0.9266, Val Acc: 0.6703, Time: 17.667703 seconds\n",
      "Epoch [26/55] Train Loss: 0.9531, Train Acc: 0.6715 | Val Loss: 0.9213, Val Acc: 0.6714, Time: 17.822421 seconds\n",
      "Epoch [27/55] Train Loss: 0.9550, Train Acc: 0.6677 | Val Loss: 0.9031, Val Acc: 0.6827, Time: 17.744994 seconds\n",
      "New best model saved at models/best_powerful_cnn_raw.pth with Val Acc: 0.6827\n",
      "Epoch [28/55] Train Loss: 0.9513, Train Acc: 0.6714 | Val Loss: 0.8741, Val Acc: 0.6959, Time: 17.678911 seconds\n",
      "New best model saved at models/best_powerful_cnn_raw.pth with Val Acc: 0.6959\n",
      "Epoch [29/55] Train Loss: 0.9361, Train Acc: 0.6793 | Val Loss: 0.8934, Val Acc: 0.6895, Time: 17.483170 seconds\n",
      "Epoch [30/55] Train Loss: 0.9254, Train Acc: 0.6782 | Val Loss: 0.9004, Val Acc: 0.6936, Time: 17.698375 seconds\n",
      "Epoch [31/55] Train Loss: 0.9098, Train Acc: 0.6892 | Val Loss: 0.8757, Val Acc: 0.6970, Time: 17.667241 seconds\n",
      "New best model saved at models/best_powerful_cnn_raw.pth with Val Acc: 0.6970\n",
      "Epoch [32/55] Train Loss: 0.8997, Train Acc: 0.6901 | Val Loss: 0.8544, Val Acc: 0.7053, Time: 17.569579 seconds\n",
      "New best model saved at models/best_powerful_cnn_raw.pth with Val Acc: 0.7053\n",
      "Epoch [33/55] Train Loss: 0.8940, Train Acc: 0.6938 | Val Loss: 0.8527, Val Acc: 0.7079, Time: 17.696112 seconds\n",
      "New best model saved at models/best_powerful_cnn_raw.pth with Val Acc: 0.7079\n",
      "Epoch [34/55] Train Loss: 0.8810, Train Acc: 0.7016 | Val Loss: 0.8339, Val Acc: 0.7165, Time: 17.540267 seconds\n",
      "New best model saved at models/best_powerful_cnn_raw.pth with Val Acc: 0.7165\n",
      "Epoch [35/55] Train Loss: 0.8934, Train Acc: 0.6889 | Val Loss: 0.8557, Val Acc: 0.6989, Time: 17.667528 seconds\n",
      "Epoch [36/55] Train Loss: 0.8788, Train Acc: 0.6992 | Val Loss: 0.8486, Val Acc: 0.7128, Time: 17.477163 seconds\n",
      "Epoch [37/55] Train Loss: 0.8660, Train Acc: 0.6985 | Val Loss: 0.8342, Val Acc: 0.7071, Time: 17.808449 seconds\n",
      "Epoch [38/55] Train Loss: 0.8737, Train Acc: 0.6979 | Val Loss: 0.8473, Val Acc: 0.7053, Time: 17.450777 seconds\n",
      "Epoch [39/55] Train Loss: 0.8696, Train Acc: 0.7037 | Val Loss: 0.8491, Val Acc: 0.7011, Time: 17.757601 seconds\n",
      "Epoch [40/55] Train Loss: 0.8582, Train Acc: 0.7036 | Val Loss: 0.8254, Val Acc: 0.7184, Time: 17.506592 seconds\n",
      "New best model saved at models/best_powerful_cnn_raw.pth with Val Acc: 0.7184\n",
      "Epoch [41/55] Train Loss: 0.8499, Train Acc: 0.7037 | Val Loss: 0.8121, Val Acc: 0.7188, Time: 17.493766 seconds\n",
      "New best model saved at models/best_powerful_cnn_raw.pth with Val Acc: 0.7188\n",
      "Epoch [42/55] Train Loss: 0.8428, Train Acc: 0.7089 | Val Loss: 0.8161, Val Acc: 0.7158, Time: 17.617538 seconds\n",
      "Epoch [43/55] Train Loss: 0.8372, Train Acc: 0.7140 | Val Loss: 0.8110, Val Acc: 0.7162, Time: 17.641614 seconds\n",
      "Epoch [44/55] Train Loss: 0.8353, Train Acc: 0.7179 | Val Loss: 0.8192, Val Acc: 0.7162, Time: 17.581428 seconds\n",
      "Epoch [45/55] Train Loss: 0.8461, Train Acc: 0.7127 | Val Loss: 0.8093, Val Acc: 0.7207, Time: 17.595197 seconds\n",
      "New best model saved at models/best_powerful_cnn_raw.pth with Val Acc: 0.7207\n",
      "Epoch [46/55] Train Loss: 0.8334, Train Acc: 0.7160 | Val Loss: 0.8072, Val Acc: 0.7218, Time: 17.557607 seconds\n",
      "New best model saved at models/best_powerful_cnn_raw.pth with Val Acc: 0.7218\n",
      "Epoch [47/55] Train Loss: 0.8270, Train Acc: 0.7162 | Val Loss: 0.7955, Val Acc: 0.7237, Time: 17.862364 seconds\n",
      "New best model saved at models/best_powerful_cnn_raw.pth with Val Acc: 0.7237\n",
      "Epoch [48/55] Train Loss: 0.8312, Train Acc: 0.7189 | Val Loss: 0.8124, Val Acc: 0.7199, Time: 17.525896 seconds\n",
      "Epoch [49/55] Train Loss: 0.8273, Train Acc: 0.7178 | Val Loss: 0.8034, Val Acc: 0.7233, Time: 17.525079 seconds\n",
      "Epoch [50/55] Train Loss: 0.8254, Train Acc: 0.7199 | Val Loss: 0.8012, Val Acc: 0.7222, Time: 17.753945 seconds\n",
      "Epoch [51/55] Train Loss: 0.8214, Train Acc: 0.7181 | Val Loss: 0.7933, Val Acc: 0.7248, Time: 17.707369 seconds\n",
      "New best model saved at models/best_powerful_cnn_raw.pth with Val Acc: 0.7248\n",
      "Epoch [52/55] Train Loss: 0.8188, Train Acc: 0.7198 | Val Loss: 0.7950, Val Acc: 0.7233, Time: 17.780717 seconds\n",
      "Epoch [53/55] Train Loss: 0.8085, Train Acc: 0.7232 | Val Loss: 0.7908, Val Acc: 0.7263, Time: 17.790551 seconds\n",
      "New best model saved at models/best_powerful_cnn_raw.pth with Val Acc: 0.7263\n",
      "Epoch [54/55] Train Loss: 0.8089, Train Acc: 0.7207 | Val Loss: 0.7951, Val Acc: 0.7278, Time: 17.786285 seconds\n",
      "New best model saved at models/best_powerful_cnn_raw.pth with Val Acc: 0.7278\n",
      "Epoch [55/55] Train Loss: 0.7942, Train Acc: 0.7315 | Val Loss: 0.7928, Val Acc: 0.7289, Time: 17.678494 seconds\n",
      "New best model saved at models/best_powerful_cnn_raw.pth with Val Acc: 0.7289\n",
      "Training complete.\n"
     ]
    }
   ],
   "source": [
    "!python ../src/train.py     # Run training on raw data for 25 epochs Powerful CNN"
   ]
  },
  {
   "cell_type": "code",
   "execution_count": 8,
   "id": "4f89f2fd-b452-480c-953c-0821a0ef30f3",
   "metadata": {},
   "outputs": [
    {
     "name": "stdout",
     "output_type": "stream",
     "text": [
      "Using device: cuda\n",
      "Starting Training!\n",
      "Epoch [1/55] Train Loss: 1.9933, Train Acc: 0.2451 | Val Loss: 1.9438, Val Acc: 0.2797, Time: 18.624636 seconds\n",
      "New best model saved at models/best_powerful_cnn_augmented.pth with Val Acc: 0.2797\n",
      "Epoch [2/55] Train Loss: 1.8735, Train Acc: 0.2947 | Val Loss: 1.9502, Val Acc: 0.2613, Time: 17.992102 seconds\n",
      "Epoch [3/55] Train Loss: 1.8364, Train Acc: 0.3046 | Val Loss: 1.8652, Val Acc: 0.2944, Time: 17.997212 seconds\n",
      "New best model saved at models/best_powerful_cnn_augmented.pth with Val Acc: 0.2944\n",
      "Epoch [4/55] Train Loss: 1.8097, Train Acc: 0.3232 | Val Loss: 1.7958, Val Acc: 0.3417, Time: 17.942172 seconds\n",
      "New best model saved at models/best_powerful_cnn_augmented.pth with Val Acc: 0.3417\n",
      "Epoch [5/55] Train Loss: 1.7466, Train Acc: 0.3592 | Val Loss: 1.7570, Val Acc: 0.3432, Time: 17.850637 seconds\n",
      "New best model saved at models/best_powerful_cnn_augmented.pth with Val Acc: 0.3432\n",
      "Epoch [6/55] Train Loss: 1.6981, Train Acc: 0.3749 | Val Loss: 1.7186, Val Acc: 0.3560, Time: 18.002305 seconds\n",
      "New best model saved at models/best_powerful_cnn_augmented.pth with Val Acc: 0.3560\n",
      "Epoch [7/55] Train Loss: 1.6591, Train Acc: 0.3909 | Val Loss: 1.6643, Val Acc: 0.3789, Time: 18.013698 seconds\n",
      "New best model saved at models/best_powerful_cnn_augmented.pth with Val Acc: 0.3789\n",
      "Epoch [8/55] Train Loss: 1.6318, Train Acc: 0.3945 | Val Loss: 1.6646, Val Acc: 0.3654, Time: 17.895149 seconds\n",
      "Epoch [9/55] Train Loss: 1.5848, Train Acc: 0.4176 | Val Loss: 1.5439, Val Acc: 0.4237, Time: 18.004990 seconds\n",
      "New best model saved at models/best_powerful_cnn_augmented.pth with Val Acc: 0.4237\n",
      "Epoch [10/55] Train Loss: 1.5577, Train Acc: 0.4267 | Val Loss: 1.5140, Val Acc: 0.4485, Time: 17.981006 seconds\n",
      "New best model saved at models/best_powerful_cnn_augmented.pth with Val Acc: 0.4485\n",
      "Epoch [11/55] Train Loss: 1.4887, Train Acc: 0.4574 | Val Loss: 1.4205, Val Acc: 0.4699, Time: 17.844607 seconds\n",
      "New best model saved at models/best_powerful_cnn_augmented.pth with Val Acc: 0.4699\n",
      "Epoch [12/55] Train Loss: 1.4494, Train Acc: 0.4697 | Val Loss: 1.4286, Val Acc: 0.4594, Time: 17.860820 seconds\n",
      "Epoch [13/55] Train Loss: 1.4106, Train Acc: 0.4830 | Val Loss: 1.4072, Val Acc: 0.4549, Time: 17.860001 seconds\n",
      "Epoch [14/55] Train Loss: 1.3633, Train Acc: 0.5019 | Val Loss: 1.2724, Val Acc: 0.5414, Time: 18.041852 seconds\n",
      "New best model saved at models/best_powerful_cnn_augmented.pth with Val Acc: 0.5414\n",
      "Epoch [15/55] Train Loss: 1.3167, Train Acc: 0.5261 | Val Loss: 1.2459, Val Acc: 0.5451, Time: 17.858277 seconds\n",
      "New best model saved at models/best_powerful_cnn_augmented.pth with Val Acc: 0.5451\n",
      "Epoch [16/55] Train Loss: 1.2781, Train Acc: 0.5406 | Val Loss: 1.5525, Val Acc: 0.4470, Time: 17.926045 seconds\n",
      "Epoch [17/55] Train Loss: 1.2453, Train Acc: 0.5555 | Val Loss: 1.2716, Val Acc: 0.5410, Time: 18.084657 seconds\n",
      "Epoch [18/55] Train Loss: 1.2149, Train Acc: 0.5734 | Val Loss: 1.1409, Val Acc: 0.5816, Time: 17.986628 seconds\n",
      "New best model saved at models/best_powerful_cnn_augmented.pth with Val Acc: 0.5816\n",
      "Epoch [19/55] Train Loss: 1.2012, Train Acc: 0.5745 | Val Loss: 1.1794, Val Acc: 0.5771, Time: 17.995345 seconds\n",
      "Epoch [20/55] Train Loss: 1.1721, Train Acc: 0.5870 | Val Loss: 1.1701, Val Acc: 0.5868, Time: 18.099613 seconds\n",
      "New best model saved at models/best_powerful_cnn_augmented.pth with Val Acc: 0.5868\n",
      "Epoch [21/55] Train Loss: 1.1199, Train Acc: 0.6048 | Val Loss: 1.0774, Val Acc: 0.6169, Time: 18.072117 seconds\n",
      "New best model saved at models/best_powerful_cnn_augmented.pth with Val Acc: 0.6169\n",
      "Epoch [22/55] Train Loss: 1.1003, Train Acc: 0.6197 | Val Loss: 1.0316, Val Acc: 0.6263, Time: 18.104783 seconds\n",
      "New best model saved at models/best_powerful_cnn_augmented.pth with Val Acc: 0.6263\n",
      "Epoch [23/55] Train Loss: 1.1002, Train Acc: 0.6122 | Val Loss: 1.0321, Val Acc: 0.6320, Time: 18.027575 seconds\n",
      "New best model saved at models/best_powerful_cnn_augmented.pth with Val Acc: 0.6320\n",
      "Epoch [24/55] Train Loss: 1.0720, Train Acc: 0.6254 | Val Loss: 1.0349, Val Acc: 0.6237, Time: 17.968741 seconds\n",
      "Epoch [25/55] Train Loss: 1.0708, Train Acc: 0.6230 | Val Loss: 1.0538, Val Acc: 0.6316, Time: 17.985395 seconds\n",
      "Epoch [26/55] Train Loss: 1.0712, Train Acc: 0.6230 | Val Loss: 1.0307, Val Acc: 0.6395, Time: 18.056060 seconds\n",
      "New best model saved at models/best_powerful_cnn_augmented.pth with Val Acc: 0.6395\n",
      "Epoch [27/55] Train Loss: 1.0565, Train Acc: 0.6277 | Val Loss: 0.9978, Val Acc: 0.6440, Time: 18.124573 seconds\n",
      "New best model saved at models/best_powerful_cnn_augmented.pth with Val Acc: 0.6440\n",
      "Epoch [28/55] Train Loss: 1.0482, Train Acc: 0.6343 | Val Loss: 1.0191, Val Acc: 0.6350, Time: 18.015779 seconds\n",
      "Epoch [29/55] Train Loss: 1.0380, Train Acc: 0.6347 | Val Loss: 1.0311, Val Acc: 0.6372, Time: 18.026411 seconds\n",
      "Epoch [30/55] Train Loss: 1.0369, Train Acc: 0.6371 | Val Loss: 1.0093, Val Acc: 0.6421, Time: 18.327470 seconds\n",
      "Epoch [31/55] Train Loss: 1.0112, Train Acc: 0.6453 | Val Loss: 0.9529, Val Acc: 0.6654, Time: 18.051359 seconds\n",
      "New best model saved at models/best_powerful_cnn_augmented.pth with Val Acc: 0.6654\n",
      "Epoch [32/55] Train Loss: 1.0003, Train Acc: 0.6524 | Val Loss: 0.9582, Val Acc: 0.6733, Time: 18.143130 seconds\n",
      "New best model saved at models/best_powerful_cnn_augmented.pth with Val Acc: 0.6733\n",
      "Epoch [33/55] Train Loss: 1.0054, Train Acc: 0.6518 | Val Loss: 0.9396, Val Acc: 0.6673, Time: 17.988238 seconds\n",
      "Epoch [34/55] Train Loss: 0.9905, Train Acc: 0.6525 | Val Loss: 0.9292, Val Acc: 0.6752, Time: 17.859194 seconds\n",
      "New best model saved at models/best_powerful_cnn_augmented.pth with Val Acc: 0.6752\n",
      "Epoch [35/55] Train Loss: 0.9786, Train Acc: 0.6621 | Val Loss: 0.9372, Val Acc: 0.6703, Time: 18.141084 seconds\n",
      "Epoch [36/55] Train Loss: 0.9814, Train Acc: 0.6599 | Val Loss: 0.9223, Val Acc: 0.6711, Time: 17.944301 seconds\n",
      "Epoch [37/55] Train Loss: 0.9858, Train Acc: 0.6567 | Val Loss: 0.9484, Val Acc: 0.6662, Time: 17.905971 seconds\n",
      "Epoch [38/55] Train Loss: 0.9738, Train Acc: 0.6603 | Val Loss: 0.9429, Val Acc: 0.6628, Time: 17.871274 seconds\n",
      "Epoch [39/55] Train Loss: 0.9830, Train Acc: 0.6675 | Val Loss: 0.9162, Val Acc: 0.6748, Time: 18.187941 seconds\n",
      "Epoch [40/55] Train Loss: 0.9675, Train Acc: 0.6656 | Val Loss: 0.9057, Val Acc: 0.6767, Time: 18.151700 seconds\n",
      "New best model saved at models/best_powerful_cnn_augmented.pth with Val Acc: 0.6767\n",
      "Epoch [41/55] Train Loss: 0.9632, Train Acc: 0.6661 | Val Loss: 0.9044, Val Acc: 0.6733, Time: 18.005153 seconds\n",
      "Epoch [42/55] Train Loss: 0.9557, Train Acc: 0.6684 | Val Loss: 0.9205, Val Acc: 0.6711, Time: 18.039342 seconds\n",
      "Epoch [43/55] Train Loss: 0.9452, Train Acc: 0.6698 | Val Loss: 0.8934, Val Acc: 0.6865, Time: 17.999413 seconds\n",
      "New best model saved at models/best_powerful_cnn_augmented.pth with Val Acc: 0.6865\n",
      "Epoch [44/55] Train Loss: 0.9477, Train Acc: 0.6694 | Val Loss: 0.8956, Val Acc: 0.6838, Time: 18.024344 seconds\n",
      "Epoch [45/55] Train Loss: 0.9524, Train Acc: 0.6671 | Val Loss: 0.8859, Val Acc: 0.6827, Time: 18.049639 seconds\n",
      "Epoch [46/55] Train Loss: 0.9439, Train Acc: 0.6702 | Val Loss: 0.8985, Val Acc: 0.6853, Time: 17.994847 seconds\n",
      "Epoch [47/55] Train Loss: 0.9473, Train Acc: 0.6748 | Val Loss: 0.8849, Val Acc: 0.6944, Time: 18.142525 seconds\n",
      "New best model saved at models/best_powerful_cnn_augmented.pth with Val Acc: 0.6944\n",
      "Epoch [48/55] Train Loss: 0.9517, Train Acc: 0.6711 | Val Loss: 0.8931, Val Acc: 0.6917, Time: 18.021064 seconds\n",
      "Epoch [49/55] Train Loss: 0.9368, Train Acc: 0.6742 | Val Loss: 0.8795, Val Acc: 0.6883, Time: 17.866031 seconds\n",
      "Epoch [50/55] Train Loss: 0.9418, Train Acc: 0.6752 | Val Loss: 0.8996, Val Acc: 0.6880, Time: 18.094860 seconds\n",
      "Epoch [51/55] Train Loss: 0.9205, Train Acc: 0.6824 | Val Loss: 0.8789, Val Acc: 0.6868, Time: 18.211668 seconds\n",
      "Epoch [52/55] Train Loss: 0.9337, Train Acc: 0.6781 | Val Loss: 0.8744, Val Acc: 0.6929, Time: 18.060426 seconds\n",
      "Epoch [53/55] Train Loss: 0.9311, Train Acc: 0.6776 | Val Loss: 0.8904, Val Acc: 0.6820, Time: 18.100706 seconds\n",
      "Epoch [54/55] Train Loss: 0.9277, Train Acc: 0.6816 | Val Loss: 0.8763, Val Acc: 0.6925, Time: 18.027701 seconds\n",
      "Epoch [55/55] Train Loss: 0.9246, Train Acc: 0.6821 | Val Loss: 0.8791, Val Acc: 0.6925, Time: 18.118218 seconds\n",
      "Training complete.\n"
     ]
    }
   ],
   "source": [
    "!python ../src/train_pc.py     # Run training on augmented data for 35 epochs Powerful CNN"
   ]
  },
  {
   "cell_type": "code",
   "execution_count": 5,
   "id": "a53ad3e2-075a-4d77-9f1b-859054db7765",
   "metadata": {},
   "outputs": [
    {
     "name": "stdout",
     "output_type": "stream",
     "text": [
      "Using device: cuda\n",
      "Starting Training!\n",
      "Epoch [1/35] Train Loss: 2.3536, Train Acc: 0.3049 | Val Loss: 1.6024, Val Acc: 0.4150, Time: 7.967140 seconds\n",
      "New best model saved at models/best_simple_cnn_raw.pth with Val Acc: 0.4150\n",
      "Epoch [2/35] Train Loss: 1.2789, Train Acc: 0.5404 | Val Loss: 1.3425, Val Acc: 0.5380, Time: 7.136602 seconds\n",
      "New best model saved at models/best_simple_cnn_raw.pth with Val Acc: 0.5380\n",
      "Epoch [3/35] Train Loss: 0.7960, Train Acc: 0.7274 | Val Loss: 1.4281, Val Acc: 0.5560, Time: 7.836825 seconds\n",
      "New best model saved at models/best_simple_cnn_raw.pth with Val Acc: 0.5560\n",
      "Epoch [4/35] Train Loss: 0.3880, Train Acc: 0.8785 | Val Loss: 1.8078, Val Acc: 0.5425, Time: 8.082353 seconds\n",
      "Epoch [5/35] Train Loss: 0.1866, Train Acc: 0.9519 | Val Loss: 2.2333, Val Acc: 0.5124, Time: 7.450686 seconds\n",
      "Epoch [6/35] Train Loss: 0.0995, Train Acc: 0.9808 | Val Loss: 2.5922, Val Acc: 0.5173, Time: 7.520984 seconds\n",
      "Epoch [7/35] Train Loss: 0.0710, Train Acc: 0.9885 | Val Loss: 2.7712, Val Acc: 0.4977, Time: 7.266776 seconds\n",
      "Epoch [8/35] Train Loss: 0.0598, Train Acc: 0.9915 | Val Loss: 2.8194, Val Acc: 0.4962, Time: 7.915141 seconds\n",
      "Epoch [9/35] Train Loss: 0.0476, Train Acc: 0.9944 | Val Loss: 2.6882, Val Acc: 0.4936, Time: 7.755897 seconds\n",
      "Epoch [10/35] Train Loss: 0.0390, Train Acc: 0.9953 | Val Loss: 2.8174, Val Acc: 0.5068, Time: 8.539019 seconds\n",
      "Epoch [11/35] Train Loss: 0.0267, Train Acc: 0.9966 | Val Loss: 2.7967, Val Acc: 0.4985, Time: 8.039171 seconds\n",
      "Epoch [12/35] Train Loss: 0.0200, Train Acc: 0.9957 | Val Loss: 2.9611, Val Acc: 0.5034, Time: 7.715213 seconds\n",
      "Epoch [13/35] Train Loss: 0.0211, Train Acc: 0.9961 | Val Loss: 2.9426, Val Acc: 0.4895, Time: 8.260389 seconds\n",
      "Epoch [14/35] Train Loss: 0.0214, Train Acc: 0.9958 | Val Loss: 2.9793, Val Acc: 0.5030, Time: 8.068726 seconds\n",
      "Epoch [15/35] Train Loss: 0.0212, Train Acc: 0.9958 | Val Loss: 2.8826, Val Acc: 0.4805, Time: 7.726567 seconds\n",
      "Epoch [16/35] Train Loss: 0.0225, Train Acc: 0.9957 | Val Loss: 2.8870, Val Acc: 0.4955, Time: 7.982794 seconds\n",
      "Epoch [17/35] Train Loss: 0.0213, Train Acc: 0.9958 | Val Loss: 2.8936, Val Acc: 0.5008, Time: 7.442254 seconds\n",
      "Epoch [18/35] Train Loss: 0.0199, Train Acc: 0.9959 | Val Loss: 2.8260, Val Acc: 0.4921, Time: 7.833721 seconds\n",
      "Epoch [19/35] Train Loss: 0.0196, Train Acc: 0.9961 | Val Loss: 2.8831, Val Acc: 0.5000, Time: 8.111706 seconds\n",
      "Epoch [20/35] Train Loss: 0.0196, Train Acc: 0.9960 | Val Loss: 2.9138, Val Acc: 0.4940, Time: 7.586125 seconds\n",
      "Epoch [21/35] Train Loss: 0.0143, Train Acc: 0.9965 | Val Loss: 2.9626, Val Acc: 0.4974, Time: 7.598422 seconds\n",
      "Epoch [22/35] Train Loss: 0.0118, Train Acc: 0.9962 | Val Loss: 2.9659, Val Acc: 0.4898, Time: 7.283598 seconds\n",
      "Epoch [23/35] Train Loss: 0.0136, Train Acc: 0.9954 | Val Loss: 2.9623, Val Acc: 0.4925, Time: 7.600379 seconds\n",
      "Epoch [24/35] Train Loss: 0.0121, Train Acc: 0.9961 | Val Loss: 3.0732, Val Acc: 0.4921, Time: 7.589188 seconds\n",
      "Epoch [25/35] Train Loss: 0.0132, Train Acc: 0.9953 | Val Loss: 3.0502, Val Acc: 0.4883, Time: 8.105430 seconds\n",
      "Epoch [26/35] Train Loss: 0.0124, Train Acc: 0.9957 | Val Loss: 2.9937, Val Acc: 0.4876, Time: 7.955696 seconds\n",
      "Epoch [27/35] Train Loss: 0.0127, Train Acc: 0.9957 | Val Loss: 3.0380, Val Acc: 0.4898, Time: 8.070863 seconds\n",
      "Epoch [28/35] Train Loss: 0.0135, Train Acc: 0.9956 | Val Loss: 2.9757, Val Acc: 0.4936, Time: 7.855096 seconds\n",
      "Epoch [29/35] Train Loss: 0.0115, Train Acc: 0.9958 | Val Loss: 3.0733, Val Acc: 0.4812, Time: 8.273501 seconds\n",
      "Epoch [30/35] Train Loss: 0.0127, Train Acc: 0.9957 | Val Loss: 3.0312, Val Acc: 0.4872, Time: 7.020990 seconds\n",
      "Epoch [31/35] Train Loss: 0.0093, Train Acc: 0.9960 | Val Loss: 3.0147, Val Acc: 0.4831, Time: 8.453729 seconds\n",
      "Epoch [32/35] Train Loss: 0.0079, Train Acc: 0.9961 | Val Loss: 3.0804, Val Acc: 0.4835, Time: 7.152048 seconds\n",
      "Epoch [33/35] Train Loss: 0.0081, Train Acc: 0.9958 | Val Loss: 3.1215, Val Acc: 0.4850, Time: 8.119770 seconds\n",
      "Epoch [34/35] Train Loss: 0.0081, Train Acc: 0.9958 | Val Loss: 3.1694, Val Acc: 0.4793, Time: 7.998069 seconds\n",
      "Epoch [35/35] Train Loss: 0.0081, Train Acc: 0.9960 | Val Loss: 3.1258, Val Acc: 0.4891, Time: 7.997810 seconds\n",
      "Training complete.\n"
     ]
    }
   ],
   "source": [
    "!python ../src/train_scr.py     # Run training on raw data for 35 epochs simple CNN"
   ]
  },
  {
   "cell_type": "code",
   "execution_count": 9,
   "id": "b3e3ecca-3361-4a88-b61d-c60be0c5d704",
   "metadata": {},
   "outputs": [
    {
     "name": "stdout",
     "output_type": "stream",
     "text": [
      "Using device: cuda\n",
      "Starting Training!\n",
      "Epoch [1/55] Train Loss: 2.1395, Train Acc: 0.2814 | Val Loss: 1.7033, Val Acc: 0.3628, Time: 9.961777 seconds\n",
      "New best model saved at models/best_simple_cnn_augmented.pth with Val Acc: 0.3628\n",
      "Epoch [2/55] Train Loss: 1.5518, Train Acc: 0.4222 | Val Loss: 1.4615, Val Acc: 0.4647, Time: 10.305109 seconds\n",
      "New best model saved at models/best_simple_cnn_augmented.pth with Val Acc: 0.4647\n",
      "Epoch [3/55] Train Loss: 1.3837, Train Acc: 0.4897 | Val Loss: 1.3667, Val Acc: 0.4989, Time: 10.662315 seconds\n",
      "New best model saved at models/best_simple_cnn_augmented.pth with Val Acc: 0.4989\n",
      "Epoch [4/55] Train Loss: 1.3073, Train Acc: 0.5300 | Val Loss: 1.2988, Val Acc: 0.5335, Time: 10.156759 seconds\n",
      "New best model saved at models/best_simple_cnn_augmented.pth with Val Acc: 0.5335\n",
      "Epoch [5/55] Train Loss: 1.2548, Train Acc: 0.5431 | Val Loss: 1.3074, Val Acc: 0.5391, Time: 10.346541 seconds\n",
      "New best model saved at models/best_simple_cnn_augmented.pth with Val Acc: 0.5391\n",
      "Epoch [6/55] Train Loss: 1.2258, Train Acc: 0.5576 | Val Loss: 1.2910, Val Acc: 0.5485, Time: 10.329924 seconds\n",
      "New best model saved at models/best_simple_cnn_augmented.pth with Val Acc: 0.5485\n",
      "Epoch [7/55] Train Loss: 1.1953, Train Acc: 0.5717 | Val Loss: 1.2375, Val Acc: 0.5553, Time: 10.162205 seconds\n",
      "New best model saved at models/best_simple_cnn_augmented.pth with Val Acc: 0.5553\n",
      "Epoch [8/55] Train Loss: 1.1634, Train Acc: 0.5890 | Val Loss: 1.2619, Val Acc: 0.5594, Time: 10.258321 seconds\n",
      "New best model saved at models/best_simple_cnn_augmented.pth with Val Acc: 0.5594\n",
      "Epoch [9/55] Train Loss: 1.1348, Train Acc: 0.5971 | Val Loss: 1.2316, Val Acc: 0.5654, Time: 10.347519 seconds\n",
      "New best model saved at models/best_simple_cnn_augmented.pth with Val Acc: 0.5654\n",
      "Epoch [10/55] Train Loss: 1.1090, Train Acc: 0.6054 | Val Loss: 1.2018, Val Acc: 0.5850, Time: 10.009520 seconds\n",
      "New best model saved at models/best_simple_cnn_augmented.pth with Val Acc: 0.5850\n",
      "Epoch [11/55] Train Loss: 1.0617, Train Acc: 0.6231 | Val Loss: 1.1949, Val Acc: 0.5944, Time: 10.235804 seconds\n",
      "New best model saved at models/best_simple_cnn_augmented.pth with Val Acc: 0.5944\n",
      "Epoch [12/55] Train Loss: 1.0403, Train Acc: 0.6327 | Val Loss: 1.1524, Val Acc: 0.6064, Time: 10.288155 seconds\n",
      "New best model saved at models/best_simple_cnn_augmented.pth with Val Acc: 0.6064\n",
      "Epoch [13/55] Train Loss: 1.0226, Train Acc: 0.6388 | Val Loss: 1.1716, Val Acc: 0.5842, Time: 9.988457 seconds\n",
      "Epoch [14/55] Train Loss: 1.0250, Train Acc: 0.6395 | Val Loss: 1.1282, Val Acc: 0.6169, Time: 10.071554 seconds\n",
      "New best model saved at models/best_simple_cnn_augmented.pth with Val Acc: 0.6169\n",
      "Epoch [15/55] Train Loss: 0.9944, Train Acc: 0.6510 | Val Loss: 1.1749, Val Acc: 0.6030, Time: 10.344020 seconds\n",
      "Epoch [16/55] Train Loss: 0.9872, Train Acc: 0.6515 | Val Loss: 1.1317, Val Acc: 0.6192, Time: 10.186420 seconds\n",
      "New best model saved at models/best_simple_cnn_augmented.pth with Val Acc: 0.6192\n",
      "Epoch [17/55] Train Loss: 0.9730, Train Acc: 0.6586 | Val Loss: 1.1394, Val Acc: 0.6098, Time: 10.519917 seconds\n",
      "Epoch [18/55] Train Loss: 0.9615, Train Acc: 0.6601 | Val Loss: 1.1627, Val Acc: 0.6008, Time: 10.142083 seconds\n",
      "Epoch [19/55] Train Loss: 0.9603, Train Acc: 0.6629 | Val Loss: 1.1348, Val Acc: 0.6177, Time: 10.139006 seconds\n",
      "Epoch [20/55] Train Loss: 0.9428, Train Acc: 0.6707 | Val Loss: 1.1515, Val Acc: 0.6139, Time: 10.230549 seconds\n",
      "Epoch [21/55] Train Loss: 0.9108, Train Acc: 0.6790 | Val Loss: 1.1236, Val Acc: 0.6226, Time: 10.322624 seconds\n",
      "New best model saved at models/best_simple_cnn_augmented.pth with Val Acc: 0.6226\n",
      "Epoch [22/55] Train Loss: 0.9119, Train Acc: 0.6801 | Val Loss: 1.1017, Val Acc: 0.6229, Time: 9.898203 seconds\n",
      "New best model saved at models/best_simple_cnn_augmented.pth with Val Acc: 0.6229\n",
      "Epoch [23/55] Train Loss: 0.8998, Train Acc: 0.6847 | Val Loss: 1.0878, Val Acc: 0.6278, Time: 9.982537 seconds\n",
      "New best model saved at models/best_simple_cnn_augmented.pth with Val Acc: 0.6278\n",
      "Epoch [24/55] Train Loss: 0.8914, Train Acc: 0.6915 | Val Loss: 1.0878, Val Acc: 0.6383, Time: 9.766321 seconds\n",
      "New best model saved at models/best_simple_cnn_augmented.pth with Val Acc: 0.6383\n",
      "Epoch [25/55] Train Loss: 0.8799, Train Acc: 0.6932 | Val Loss: 1.0887, Val Acc: 0.6417, Time: 10.028959 seconds\n",
      "New best model saved at models/best_simple_cnn_augmented.pth with Val Acc: 0.6417\n",
      "Epoch [26/55] Train Loss: 0.8858, Train Acc: 0.6925 | Val Loss: 1.1260, Val Acc: 0.6274, Time: 10.045952 seconds\n",
      "Epoch [27/55] Train Loss: 0.8715, Train Acc: 0.6939 | Val Loss: 1.0844, Val Acc: 0.6391, Time: 9.947856 seconds\n",
      "Epoch [28/55] Train Loss: 0.8688, Train Acc: 0.6937 | Val Loss: 1.1106, Val Acc: 0.6244, Time: 9.762092 seconds\n",
      "Epoch [29/55] Train Loss: 0.8598, Train Acc: 0.7061 | Val Loss: 1.1347, Val Acc: 0.6192, Time: 9.817896 seconds\n",
      "Epoch [30/55] Train Loss: 0.8644, Train Acc: 0.6988 | Val Loss: 1.1209, Val Acc: 0.6335, Time: 10.054338 seconds\n",
      "Epoch [31/55] Train Loss: 0.8484, Train Acc: 0.7008 | Val Loss: 1.0916, Val Acc: 0.6320, Time: 9.719728 seconds\n",
      "Epoch [32/55] Train Loss: 0.8345, Train Acc: 0.7098 | Val Loss: 1.0948, Val Acc: 0.6444, Time: 9.918550 seconds\n",
      "New best model saved at models/best_simple_cnn_augmented.pth with Val Acc: 0.6444\n",
      "Epoch [33/55] Train Loss: 0.8329, Train Acc: 0.7091 | Val Loss: 1.0949, Val Acc: 0.6331, Time: 9.937383 seconds\n",
      "Epoch [34/55] Train Loss: 0.8360, Train Acc: 0.7081 | Val Loss: 1.0755, Val Acc: 0.6395, Time: 10.084259 seconds\n",
      "Epoch [35/55] Train Loss: 0.8270, Train Acc: 0.7142 | Val Loss: 1.1007, Val Acc: 0.6372, Time: 9.398372 seconds\n",
      "Epoch [36/55] Train Loss: 0.8223, Train Acc: 0.7125 | Val Loss: 1.0748, Val Acc: 0.6406, Time: 9.609039 seconds\n",
      "Epoch [37/55] Train Loss: 0.8269, Train Acc: 0.7127 | Val Loss: 1.1148, Val Acc: 0.6316, Time: 9.884428 seconds\n",
      "Epoch [38/55] Train Loss: 0.8144, Train Acc: 0.7173 | Val Loss: 1.0692, Val Acc: 0.6414, Time: 9.690822 seconds\n",
      "Epoch [39/55] Train Loss: 0.8140, Train Acc: 0.7148 | Val Loss: 1.0806, Val Acc: 0.6429, Time: 10.072189 seconds\n",
      "Epoch [40/55] Train Loss: 0.8083, Train Acc: 0.7192 | Val Loss: 1.0628, Val Acc: 0.6500, Time: 10.059038 seconds\n",
      "New best model saved at models/best_simple_cnn_augmented.pth with Val Acc: 0.6500\n",
      "Epoch [41/55] Train Loss: 0.7959, Train Acc: 0.7214 | Val Loss: 1.0989, Val Acc: 0.6387, Time: 10.042579 seconds\n",
      "Epoch [42/55] Train Loss: 0.7992, Train Acc: 0.7211 | Val Loss: 1.0583, Val Acc: 0.6571, Time: 9.937246 seconds\n",
      "New best model saved at models/best_simple_cnn_augmented.pth with Val Acc: 0.6571\n",
      "Epoch [43/55] Train Loss: 0.7968, Train Acc: 0.7269 | Val Loss: 1.0998, Val Acc: 0.6466, Time: 9.525036 seconds\n",
      "Epoch [44/55] Train Loss: 0.7958, Train Acc: 0.7254 | Val Loss: 1.0633, Val Acc: 0.6447, Time: 9.446750 seconds\n",
      "Epoch [45/55] Train Loss: 0.7907, Train Acc: 0.7253 | Val Loss: 1.0779, Val Acc: 0.6429, Time: 9.494734 seconds\n",
      "Epoch [46/55] Train Loss: 0.7955, Train Acc: 0.7286 | Val Loss: 1.0575, Val Acc: 0.6462, Time: 9.532723 seconds\n",
      "Epoch [47/55] Train Loss: 0.7882, Train Acc: 0.7301 | Val Loss: 1.0819, Val Acc: 0.6451, Time: 9.879704 seconds\n",
      "Epoch [48/55] Train Loss: 0.7851, Train Acc: 0.7291 | Val Loss: 1.0823, Val Acc: 0.6391, Time: 9.884927 seconds\n",
      "Epoch [49/55] Train Loss: 0.7870, Train Acc: 0.7253 | Val Loss: 1.0917, Val Acc: 0.6376, Time: 10.195407 seconds\n",
      "Epoch [50/55] Train Loss: 0.7840, Train Acc: 0.7286 | Val Loss: 1.0530, Val Acc: 0.6425, Time: 9.926952 seconds\n",
      "Epoch [51/55] Train Loss: 0.7813, Train Acc: 0.7282 | Val Loss: 1.0873, Val Acc: 0.6451, Time: 10.133531 seconds\n",
      "Epoch [52/55] Train Loss: 0.7711, Train Acc: 0.7320 | Val Loss: 1.0696, Val Acc: 0.6451, Time: 10.390383 seconds\n",
      "Epoch [53/55] Train Loss: 0.7754, Train Acc: 0.7302 | Val Loss: 1.0728, Val Acc: 0.6485, Time: 9.955684 seconds\n",
      "Epoch [54/55] Train Loss: 0.7764, Train Acc: 0.7350 | Val Loss: 1.0635, Val Acc: 0.6541, Time: 10.448965 seconds\n",
      "Epoch [55/55] Train Loss: 0.7784, Train Acc: 0.7298 | Val Loss: 1.0913, Val Acc: 0.6466, Time: 10.022640 seconds\n",
      "Training complete.\n"
     ]
    }
   ],
   "source": [
    "!python ../src/train_sca.py     # Run training on augmented data for 35 epochs simple CNN"
   ]
  },
  {
   "cell_type": "code",
   "execution_count": 3,
   "id": "c2c41c50-b50f-4c02-801e-e0da450892b7",
   "metadata": {},
   "outputs": [
    {
     "name": "stdout",
     "output_type": "stream",
     "text": [
      "Using device: cpu\n",
      "/home/bhora.y/.conda/envs/pytorch_env/lib/python3.10/site-packages/torch/utils/data/dataloader.py:624: UserWarning: This DataLoader will create 4 worker processes in total. Our suggested max number of worker in current system is 2, which is smaller than what this DataLoader is going to create. Please be aware that excessive worker creation might get DataLoader running slow or even freeze, lower the worker number to avoid potential slowness/freeze if necessary.\n",
      "  warnings.warn(\n",
      "Starting Training!\n",
      "^C\n"
     ]
    }
   ],
   "source": [
    "!python ../src/train_pc.py     # Run training on augmented data for 35 epochs simple CNN"
   ]
  },
  {
   "cell_type": "code",
   "id": "ccf18748-1a8e-41d0-a305-801b3236a112",
   "metadata": {
    "ExecuteTime": {
     "end_time": "2025-04-14T01:45:01.199772Z",
     "start_time": "2025-04-14T00:51:17.036620Z"
    }
   },
   "source": "!python transfer_learning.py",
   "outputs": [
    {
     "name": "stdout",
     "output_type": "stream",
     "text": [
      "Using device: mps\r\n",
      "model.safetensors: 100%|███████████████████| 36.8M/36.8M [00:00<00:00, 61.7MB/s]\r\n",
      "Epoch [1/10] Train Loss: 1.0485, Train Acc: 0.6594 | Val Loss: 0.7764, Val Acc: 0.7406\r\n",
      "New best model saved at models/best_efficientnet_raw.pth with Val Acc: 0.7406\r\n",
      "Epoch [2/10] Train Loss: 0.6016, Train Acc: 0.8009 | Val Loss: 0.7340, Val Acc: 0.7714\r\n",
      "New best model saved at models/best_efficientnet_raw.pth with Val Acc: 0.7714\r\n",
      "Epoch [3/10] Train Loss: 0.4663, Train Acc: 0.8429 | Val Loss: 0.6335, Val Acc: 0.7921\r\n",
      "New best model saved at models/best_efficientnet_raw.pth with Val Acc: 0.7921\r\n",
      "Epoch [4/10] Train Loss: 0.3925, Train Acc: 0.8695 | Val Loss: 0.6163, Val Acc: 0.7970\r\n",
      "New best model saved at models/best_efficientnet_raw.pth with Val Acc: 0.7970\r\n",
      "Epoch [5/10] Train Loss: 0.3022, Train Acc: 0.8972 | Val Loss: 0.7080, Val Acc: 0.7880\r\n",
      "Epoch [6/10] Train Loss: 0.2542, Train Acc: 0.9177 | Val Loss: 0.7716, Val Acc: 0.7921\r\n",
      "Epoch [7/10] Train Loss: 0.2069, Train Acc: 0.9327 | Val Loss: 0.7485, Val Acc: 0.8109\r\n",
      "New best model saved at models/best_efficientnet_raw.pth with Val Acc: 0.8109\r\n",
      "Epoch [8/10] Train Loss: 0.1863, Train Acc: 0.9393 | Val Loss: 0.7335, Val Acc: 0.8038\r\n",
      "Epoch [9/10] Train Loss: 0.1574, Train Acc: 0.9479 | Val Loss: 0.7526, Val Acc: 0.8098\r\n",
      "Epoch [10/10] Train Loss: 0.1435, Train Acc: 0.9544 | Val Loss: 0.9380, Val Acc: 0.7744\r\n",
      "Training complete.\r\n"
     ]
    }
   ],
   "execution_count": 2
  },
  {
   "metadata": {
    "ExecuteTime": {
     "end_time": "2025-04-14T01:59:32.084734Z",
     "start_time": "2025-04-14T01:54:45.432563Z"
    }
   },
   "cell_type": "code",
   "source": "!python transfer_learning.py # Augmented data",
   "id": "115d17ae617aa698",
   "outputs": [
    {
     "name": "stdout",
     "output_type": "stream",
     "text": [
      "Using device: mps\r\n",
      "Starting Training!\r\n",
      "^C\r\n",
      "Traceback (most recent call last):\r\n",
      "  File \"/Users/yashbhora/Library/CloudStorage/OneDrive-NortheasternUniversity/Classes/DS 4420 Machine Learning & Data Mining 2/ds4420_final/galaxy_classification/transfer_learning.py\", line 166, in <module>\r\n",
      "    main(raw=False, model_type='efficientnet')\r\n",
      "  File \"/Users/yashbhora/Library/CloudStorage/OneDrive-NortheasternUniversity/Classes/DS 4420 Machine Learning & Data Mining 2/ds4420_final/galaxy_classification/transfer_learning.py\", line 109, in main\r\n",
      "    for inputs, targets in train_loader:\r\n",
      "  File \"/opt/anaconda3/envs/mldl/lib/python3.12/site-packages/torch/utils/data/dataloader.py\", line 631, in __next__\r\n",
      "    data = self._next_data()\r\n",
      "           ^^^^^^^^^^^^^^^^^\r\n",
      "  File \"/opt/anaconda3/envs/mldl/lib/python3.12/site-packages/torch/utils/data/dataloader.py\", line 1318, in _next_data\r\n",
      "    self._shutdown_workers()\r\n",
      "  File \"/opt/anaconda3/envs/mldl/lib/python3.12/site-packages/torch/utils/data/dataloader.py\", line 1443, in _shutdown_workers\r\n",
      "    w.join(timeout=_utils.MP_STATUS_CHECK_INTERVAL)\r\n",
      "  File \"/opt/anaconda3/envs/mldl/lib/python3.12/multiprocessing/process.py\", line 149, in join\r\n",
      "    res = self._popen.wait(timeout)\r\n",
      "          ^^^^^^^^^^^^^^^^^^^^^^^^^\r\n",
      "  File \"/opt/anaconda3/envs/mldl/lib/python3.12/multiprocessing/popen_fork.py\", line 40, in wait\r\n",
      "    if not wait([self.sentinel], timeout):\r\n",
      "           ^^^^^^^^^^^^^^^^^^^^^^^^^^^^^^\r\n",
      "  File \"/opt/anaconda3/envs/mldl/lib/python3.12/multiprocessing/connection.py\", line 1135, in wait\r\n",
      "    ready = selector.select(timeout)\r\n",
      "            ^^^^^^^^^^^^^^^^^^^^^^^^\r\n",
      "  File \"/opt/anaconda3/envs/mldl/lib/python3.12/selectors.py\", line 415, in select\r\n",
      "    fd_event_list = self._selector.poll(timeout)\r\n",
      "                    ^^^^^^^^^^^^^^^^^^^^^^^^^^^^\r\n",
      "KeyboardInterrupt\r\n"
     ]
    }
   ],
   "execution_count": 4
  }
 ],
 "metadata": {
  "kernelspec": {
   "display_name": "mldl",
   "language": "python",
   "name": "mldl"
  },
  "language_info": {
   "codemirror_mode": {
    "name": "ipython",
    "version": 3
   },
   "file_extension": ".py",
   "mimetype": "text/x-python",
   "name": "python",
   "nbconvert_exporter": "python",
   "pygments_lexer": "ipython3",
   "version": "3.10.17"
  }
 },
 "nbformat": 4,
 "nbformat_minor": 5
}
